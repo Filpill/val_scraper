{
 "cells": [
  {
   "cell_type": "markdown",
   "id": "8bf28c58-58c6-4c31-b29f-4c897f1b604f",
   "metadata": {},
   "source": [
    "# Importing Modules"
   ]
  },
  {
   "cell_type": "code",
   "execution_count": 73,
   "id": "05e6f7a3-c807-4290-a222-d23e2e199703",
   "metadata": {},
   "outputs": [],
   "source": [
    "import matplotlib.pyplot as plt\n",
    "import seaborn as sns\n",
    "import pandas as pd\n",
    "import json\n",
    "import sys"
   ]
  },
  {
   "cell_type": "markdown",
   "id": "52290982-52d0-4379-8a8a-8bcf8bfaefce",
   "metadata": {},
   "source": [
    "# Filepath to JSON File Saved From Webscraper"
   ]
  },
  {
   "cell_type": "code",
   "execution_count": 3,
   "id": "e21e9d21-5442-4946-802b-793e9d8e9a6c",
   "metadata": {},
   "outputs": [
    {
     "name": "stdout",
     "output_type": "stream",
     "text": [
      "The path of the JSON is: /home/filpill/work/github/val_scraper/val_scraper/playerState.json\n"
     ]
    }
   ],
   "source": [
    "root = sys.path [0].rsplit('/',1)[0]\n",
    "json_data = '/playerState.json'\n",
    "filepath = root+json_data\n",
    "print(f'The path of the JSON is: {filepath}')"
   ]
  },
  {
   "cell_type": "markdown",
   "id": "3612cce5-5d48-4354-a625-ec89fca0ed77",
   "metadata": {},
   "source": [
    "# Loading the JSON File"
   ]
  },
  {
   "cell_type": "code",
   "execution_count": 28,
   "id": "093fd290-b9f2-4a72-8dcc-e8a0296dd654",
   "metadata": {},
   "outputs": [
    {
     "name": "stdout",
     "output_type": "stream",
     "text": [
      "Successfully Loaded in JSON Data\n"
     ]
    }
   ],
   "source": [
    "with open(filepath) as f:\n",
    "    json_data = json.load(f)\n",
    "print('Successfully Loaded in JSON Data')"
   ]
  },
  {
   "cell_type": "markdown",
   "id": "5a1831dd-240c-483f-b720-d2c0297bc00d",
   "metadata": {},
   "source": [
    "# Re-shaping JSON - Appending stat keys to matchInfo Keys"
   ]
  },
  {
   "cell_type": "code",
   "execution_count": 65,
   "id": "8e94baa4-f29b-456e-9d78-7dd4e0afd3bf",
   "metadata": {},
   "outputs": [
    {
     "data": {
      "text/plain": [
       "{'shard': 'eu',\n",
       " 'matchId': '9514067b-b748-486d-85e6-461e5b89a6fd',\n",
       " 'mapId': '/Game/Maps/Canyon/Canyon',\n",
       " 'mapCode': 'canyon',\n",
       " 'mapName': 'fracture',\n",
       " 'gameLengthMillis': 2009000,\n",
       " 'gameStartMillis': 1654808633000,\n",
       " 'queueId': 'competitive',\n",
       " 'gameMode': '/Game/GameModes/Bomb/BombGameMode.BombGameMode_C',\n",
       " 'isRanked': True,\n",
       " 'seasonId': '3e47230a-463c-a301-eb7d-67bb60357d4f',\n",
       " 'puuid': 'JPnyLxsiavseiYbL8xtmWSuFRHdupX43u_hVynD5YScr2_Y32Wt2v5K-NvxvfDRWTL67AHdVSmoLTg',\n",
       " 'roundsPlayed': 19,\n",
       " 'roundsWon': 13,\n",
       " 'character': '707eab51-4836-f488-046a-cda6bf494859',\n",
       " 'characterCode': 'pandemic',\n",
       " 'characterName': 'viper',\n",
       " 'score': 4193,\n",
       " 'kills': 15,\n",
       " 'deaths': 9,\n",
       " 'assists': 7,\n",
       " 'bombPlants': 3,\n",
       " 'bombDefuses': 1,\n",
       " 'damage': 2800,\n",
       " 'headshots': 5,\n",
       " 'bodyshots': 27,\n",
       " 'legshots': 12,\n",
       " 'firstBloods': 1,\n",
       " 'ceremonyAces': 0,\n",
       " 'ceremonyClosers': 0,\n",
       " 'ceremonyClutches': 0,\n",
       " 'ceremonyFlawlesses': 3,\n",
       " 'ceremonyTeamAces': 0,\n",
       " 'ceremonyThrifties': 0}"
      ]
     },
     "execution_count": 65,
     "metadata": {},
     "output_type": "execute_result"
    }
   ],
   "source": [
    "#Parsing match key to simplify nested list of dictionaries to just list of matchInfo and stat\n",
    "#Now each element in the dict_list will correspond to a particular match\n",
    "dict_list = json_data[0]['matches']\n",
    "\n",
    "#Now we can loop through each match and combine the keys to a single dictionary\n",
    "match_list = []\n",
    "for i in range(len(dict_list)):\n",
    "    matchInfo = dict_list[i]['matchInfo']\n",
    "    stat  = dict_list[i]['stat']\n",
    "    match = matchInfo|stat\n",
    "    match_list.append(match)\n",
    "match_list[0] #testing zeroth element output from list generated"
   ]
  },
  {
   "cell_type": "markdown",
   "id": "966d913f-51c8-4f25-9982-231393b2129b",
   "metadata": {},
   "source": [
    "# Transforming JSON into a DataFrame - And Grabbing Desired Col Headers"
   ]
  },
  {
   "cell_type": "code",
   "execution_count": 196,
   "id": "1ca671c8-36e6-4fca-b63d-134619eda1b4",
   "metadata": {},
   "outputs": [
    {
     "data": {
      "text/html": [
       "<div>\n",
       "<style scoped>\n",
       "    .dataframe tbody tr th:only-of-type {\n",
       "        vertical-align: middle;\n",
       "    }\n",
       "\n",
       "    .dataframe tbody tr th {\n",
       "        vertical-align: top;\n",
       "    }\n",
       "\n",
       "    .dataframe thead th {\n",
       "        text-align: right;\n",
       "    }\n",
       "</style>\n",
       "<table border=\"1\" class=\"dataframe\">\n",
       "  <thead>\n",
       "    <tr style=\"text-align: right;\">\n",
       "      <th></th>\n",
       "      <th>matchId</th>\n",
       "      <th>mapName</th>\n",
       "      <th>gameStartMillis</th>\n",
       "      <th>roundsPlayed</th>\n",
       "      <th>roundsWon</th>\n",
       "      <th>characterName</th>\n",
       "      <th>score</th>\n",
       "      <th>kills</th>\n",
       "      <th>deaths</th>\n",
       "      <th>assists</th>\n",
       "      <th>bombPlants</th>\n",
       "      <th>damage</th>\n",
       "      <th>headshots</th>\n",
       "      <th>bodyshots</th>\n",
       "      <th>legshots</th>\n",
       "      <th>firstBloods</th>\n",
       "      <th>ceremonyAces</th>\n",
       "      <th>ceremonyClosers</th>\n",
       "      <th>ceremonyClutches</th>\n",
       "      <th>ceremonyTeamAces</th>\n",
       "      <th>ceremonyThrifties</th>\n",
       "      <th>outcome</th>\n",
       "    </tr>\n",
       "  </thead>\n",
       "  <tbody>\n",
       "    <tr>\n",
       "      <th>0</th>\n",
       "      <td>9514067b-b748-486d-85e6-461e5b89a6fd</td>\n",
       "      <td>fracture</td>\n",
       "      <td>1654808633000</td>\n",
       "      <td>19</td>\n",
       "      <td>13</td>\n",
       "      <td>viper</td>\n",
       "      <td>4193</td>\n",
       "      <td>15</td>\n",
       "      <td>9</td>\n",
       "      <td>7</td>\n",
       "      <td>3</td>\n",
       "      <td>2800</td>\n",
       "      <td>5</td>\n",
       "      <td>27</td>\n",
       "      <td>12</td>\n",
       "      <td>1</td>\n",
       "      <td>0</td>\n",
       "      <td>0</td>\n",
       "      <td>0</td>\n",
       "      <td>0</td>\n",
       "      <td>0</td>\n",
       "      <td>win</td>\n",
       "    </tr>\n",
       "    <tr>\n",
       "      <th>1</th>\n",
       "      <td>f1482d17-91ea-49e2-b153-6050cbb73c73</td>\n",
       "      <td>icebox</td>\n",
       "      <td>1654806220000</td>\n",
       "      <td>24</td>\n",
       "      <td>11</td>\n",
       "      <td>viper</td>\n",
       "      <td>4491</td>\n",
       "      <td>16</td>\n",
       "      <td>16</td>\n",
       "      <td>5</td>\n",
       "      <td>7</td>\n",
       "      <td>3049</td>\n",
       "      <td>9</td>\n",
       "      <td>42</td>\n",
       "      <td>1</td>\n",
       "      <td>2</td>\n",
       "      <td>0</td>\n",
       "      <td>0</td>\n",
       "      <td>0</td>\n",
       "      <td>0</td>\n",
       "      <td>0</td>\n",
       "      <td>loss</td>\n",
       "    </tr>\n",
       "    <tr>\n",
       "      <th>...</th>\n",
       "      <td>...</td>\n",
       "      <td>...</td>\n",
       "      <td>...</td>\n",
       "      <td>...</td>\n",
       "      <td>...</td>\n",
       "      <td>...</td>\n",
       "      <td>...</td>\n",
       "      <td>...</td>\n",
       "      <td>...</td>\n",
       "      <td>...</td>\n",
       "      <td>...</td>\n",
       "      <td>...</td>\n",
       "      <td>...</td>\n",
       "      <td>...</td>\n",
       "      <td>...</td>\n",
       "      <td>...</td>\n",
       "      <td>...</td>\n",
       "      <td>...</td>\n",
       "      <td>...</td>\n",
       "      <td>...</td>\n",
       "      <td>...</td>\n",
       "      <td>...</td>\n",
       "    </tr>\n",
       "    <tr>\n",
       "      <th>28</th>\n",
       "      <td>03222794-4e53-4ae6-9efe-e11f224bad61</td>\n",
       "      <td>split</td>\n",
       "      <td>1652989624000</td>\n",
       "      <td>16</td>\n",
       "      <td>13</td>\n",
       "      <td>viper</td>\n",
       "      <td>2689</td>\n",
       "      <td>9</td>\n",
       "      <td>6</td>\n",
       "      <td>7</td>\n",
       "      <td>4</td>\n",
       "      <td>1947</td>\n",
       "      <td>6</td>\n",
       "      <td>29</td>\n",
       "      <td>2</td>\n",
       "      <td>2</td>\n",
       "      <td>0</td>\n",
       "      <td>0</td>\n",
       "      <td>0</td>\n",
       "      <td>0</td>\n",
       "      <td>0</td>\n",
       "      <td>win</td>\n",
       "    </tr>\n",
       "    <tr>\n",
       "      <th>29</th>\n",
       "      <td>f5b2e1ac-6679-431f-8e45-f3343e711176</td>\n",
       "      <td>breeze</td>\n",
       "      <td>1652983820000</td>\n",
       "      <td>28</td>\n",
       "      <td>13</td>\n",
       "      <td>viper</td>\n",
       "      <td>5031</td>\n",
       "      <td>18</td>\n",
       "      <td>23</td>\n",
       "      <td>9</td>\n",
       "      <td>7</td>\n",
       "      <td>3251</td>\n",
       "      <td>8</td>\n",
       "      <td>40</td>\n",
       "      <td>10</td>\n",
       "      <td>0</td>\n",
       "      <td>0</td>\n",
       "      <td>0</td>\n",
       "      <td>0</td>\n",
       "      <td>0</td>\n",
       "      <td>0</td>\n",
       "      <td>loss</td>\n",
       "    </tr>\n",
       "  </tbody>\n",
       "</table>\n",
       "<p>30 rows × 22 columns</p>\n",
       "</div>"
      ],
      "text/plain": [
       "                                 matchId   mapName  gameStartMillis  \\\n",
       "0   9514067b-b748-486d-85e6-461e5b89a6fd  fracture    1654808633000   \n",
       "1   f1482d17-91ea-49e2-b153-6050cbb73c73    icebox    1654806220000   \n",
       "..                                   ...       ...              ...   \n",
       "28  03222794-4e53-4ae6-9efe-e11f224bad61     split    1652989624000   \n",
       "29  f5b2e1ac-6679-431f-8e45-f3343e711176    breeze    1652983820000   \n",
       "\n",
       "    roundsPlayed  roundsWon characterName  score  kills  deaths  assists  \\\n",
       "0             19         13         viper   4193     15       9        7   \n",
       "1             24         11         viper   4491     16      16        5   \n",
       "..           ...        ...           ...    ...    ...     ...      ...   \n",
       "28            16         13         viper   2689      9       6        7   \n",
       "29            28         13         viper   5031     18      23        9   \n",
       "\n",
       "    bombPlants  damage  headshots  bodyshots  legshots  firstBloods  \\\n",
       "0            3    2800          5         27        12            1   \n",
       "1            7    3049          9         42         1            2   \n",
       "..         ...     ...        ...        ...       ...          ...   \n",
       "28           4    1947          6         29         2            2   \n",
       "29           7    3251          8         40        10            0   \n",
       "\n",
       "    ceremonyAces  ceremonyClosers  ceremonyClutches  ceremonyTeamAces  \\\n",
       "0              0                0                 0                 0   \n",
       "1              0                0                 0                 0   \n",
       "..           ...              ...               ...               ...   \n",
       "28             0                0                 0                 0   \n",
       "29             0                0                 0                 0   \n",
       "\n",
       "    ceremonyThrifties outcome  \n",
       "0                   0     win  \n",
       "1                   0    loss  \n",
       "..                ...     ...  \n",
       "28                  0     win  \n",
       "29                  0    loss  \n",
       "\n",
       "[30 rows x 22 columns]"
      ]
     },
     "execution_count": 196,
     "metadata": {},
     "output_type": "execute_result"
    }
   ],
   "source": [
    "df = pd.DataFrame.from_dict(match_list,orient=\"columns\")\n",
    "pd.set_option(\"display.max_rows\",4)\n",
    "headers = ['matchId','mapName','gameStartMillis','roundsPlayed','roundsWon',\n",
    "                      'characterName','score','kills','deaths','assists','bombPlants','damage',\n",
    "                      'headshots','bodyshots','legshots','firstBloods','ceremonyAces','ceremonyClosers',\n",
    "                      'ceremonyClutches','ceremonyFlawesses','ceremonyTeamAces','ceremonyThrifties']\n",
    "df = df[df.columns.intersection(headers)]\n",
    "\n",
    "#Adding extra column to determine if match was won/loss/overtime:\n",
    "df['outcome']=''\n",
    "for i in range(df.shape[0]):\n",
    "    \n",
    "    #Determine Number of Rounds Played in Match\n",
    "    roundsPlayed = df.iat[i,df.columns.get_loc('roundsPlayed')]\n",
    "    roundsWon = df.iat[i,df.columns.get_loc('roundsWon')]\n",
    "    \n",
    "    #Determine Win/Loss\n",
    "    if roundsWon == 13 and roundsPlayed <= 24:\n",
    "        df.iat[i,df.columns.get_loc('outcome')] = 'win'\n",
    "    elif roundsWon < 13 :\n",
    "        df.iat[i,df.columns.get_loc('outcome')] = 'loss'\n",
    "        \n",
    "    #Overtime Conditions\n",
    "    elif roundsPlayed > 24:\n",
    "        if roundsPlayed - roundsWon == 12:\n",
    "            df.iat[i,df.columns.get_loc('outcome')] = 'draw'\n",
    "        elif roundsPlayed - roundsWon > 12:\n",
    "            df.iat[i,df.columns.get_loc('outcome')] = 'loss'\n",
    "        elif roundsPlayed - roundsWon < 12:\n",
    "            df.iat[i,df.columns.get_loc('outcome')] = 'win'\n",
    "            \n",
    "pd.set_option('display.max_rows',4)\n",
    "df"
   ]
  },
  {
   "cell_type": "markdown",
   "id": "27cfdcc4-1f05-47f0-a758-10eb39f118f6",
   "metadata": {},
   "source": [
    "# Plotting Charts\n",
    "### Kill/Death Distribution"
   ]
  },
  {
   "cell_type": "code",
   "execution_count": 197,
   "id": "9c1c371c-26af-47aa-a2e9-138757e8038c",
   "metadata": {},
   "outputs": [
    {
     "data": {
      "text/plain": [
       "<AxesSubplot:title={'center':'Damage Distribution -  Last 30 Matches'}, ylabel='damage'>"
      ]
     },
     "execution_count": 197,
     "metadata": {},
     "output_type": "execute_result"
    },
    {
     "data": {
      "image/png": "[encoded data removed]",
      "text/plain": [
       "<Figure size 864x720 with 2 Axes>"
      ]
     },
     "metadata": {},
     "output_type": "display_data"
    }
   ],
   "source": [
    "#Melting DataFrame to Combine Kills and Deaths Into Singular Col to plot Violin\n",
    "kill_death = df[df.columns.intersection(['kills','deaths'])]\n",
    "kill_death = kill_death.melt(var_name='Legend',value_name='value')\n",
    "kill_death['maps'] = 'All Maps'\n",
    "\n",
    "#Plotting Chart\n",
    "fig, ax = plt.subplots(1,2,figsize=(12,10))\n",
    "sns.set_theme(style='whitegrid')\n",
    "\n",
    "ax[0].set_title(f'Kill/Death Distribution -  Last {df.shape[0]} Matches',loc='center',fontsize=14)\n",
    "sns.violinplot(ax = ax[0], data = kill_death, y= 'value', x = 'maps', hue = 'Legend', split =True)\n",
    "\n",
    "ax[1].set_title(f'Damage Distribution -  Last {df.shape[0]} Matches',loc='center',fontsize=14)\n",
    "sns.violinplot(ax = ax[1],data = df, y= 'damage')"
   ]
  },
  {
   "cell_type": "markdown",
   "id": "748b1a04-ac5c-4817-b28a-78308f4fe985",
   "metadata": {},
   "source": [
    "### Map Outcome Distribution"
   ]
  },
  {
   "cell_type": "code",
   "execution_count": 215,
   "id": "9947df45-aed4-4f71-bd91-15c2b888708f",
   "metadata": {},
   "outputs": [
    {
     "data": {
      "text/html": [
       "<div>\n",
       "<style scoped>\n",
       "    .dataframe tbody tr th:only-of-type {\n",
       "        vertical-align: middle;\n",
       "    }\n",
       "\n",
       "    .dataframe tbody tr th {\n",
       "        vertical-align: top;\n",
       "    }\n",
       "\n",
       "    .dataframe thead th {\n",
       "        text-align: right;\n",
       "    }\n",
       "</style>\n",
       "<table border=\"1\" class=\"dataframe\">\n",
       "  <thead>\n",
       "    <tr style=\"text-align: right;\">\n",
       "      <th>outcome</th>\n",
       "      <th>draw</th>\n",
       "      <th>loss</th>\n",
       "      <th>win</th>\n",
       "    </tr>\n",
       "    <tr>\n",
       "      <th>mapName</th>\n",
       "      <th></th>\n",
       "      <th></th>\n",
       "      <th></th>\n",
       "    </tr>\n",
       "  </thead>\n",
       "  <tbody>\n",
       "    <tr>\n",
       "      <th>ascent</th>\n",
       "      <td>NaN</td>\n",
       "      <td>NaN</td>\n",
       "      <td>4.0</td>\n",
       "    </tr>\n",
       "    <tr>\n",
       "      <th>bind</th>\n",
       "      <td>1.0</td>\n",
       "      <td>1.0</td>\n",
       "      <td>2.0</td>\n",
       "    </tr>\n",
       "    <tr>\n",
       "      <th>...</th>\n",
       "      <td>...</td>\n",
       "      <td>...</td>\n",
       "      <td>...</td>\n",
       "    </tr>\n",
       "    <tr>\n",
       "      <th>icebox</th>\n",
       "      <td>NaN</td>\n",
       "      <td>2.0</td>\n",
       "      <td>3.0</td>\n",
       "    </tr>\n",
       "    <tr>\n",
       "      <th>split</th>\n",
       "      <td>1.0</td>\n",
       "      <td>1.0</td>\n",
       "      <td>1.0</td>\n",
       "    </tr>\n",
       "  </tbody>\n",
       "</table>\n",
       "<p>7 rows × 3 columns</p>\n",
       "</div>"
      ],
      "text/plain": [
       "outcome  draw  loss  win\n",
       "mapName                 \n",
       "ascent    NaN   NaN  4.0\n",
       "bind      1.0   1.0  2.0\n",
       "...       ...   ...  ...\n",
       "icebox    NaN   2.0  3.0\n",
       "split     1.0   1.0  1.0\n",
       "\n",
       "[7 rows x 3 columns]"
      ]
     },
     "execution_count": 215,
     "metadata": {},
     "output_type": "execute_result"
    }
   ],
   "source": [
    "df_map_outcome = df.groupby(['mapName','outcome'])['outcome'].count().unstack('outcome')\n",
    "cols = ['win','loss','draw']\n",
    "# df_map_outcome.reindex(columns=['win','loss','draw'],level='outcome')\n",
    "df_map_outcome \n",
    "\n"
   ]
  },
  {
   "cell_type": "code",
   "execution_count": 219,
   "id": "48478cfc-b593-4d0b-a93f-0e13ffedffe7",
   "metadata": {},
   "outputs": [
    {
     "data": {
      "image/png": "[encoded data removed]",
      "text/plain": [
       "<Figure size 864x432 with 1 Axes>"
      ]
     },
     "metadata": {},
     "output_type": "display_data"
    }
   ],
   "source": [
    "fig, ax = plt.subplots(figsize=(12,6))\n",
    "df_map_outcome.plot(kind='bar',ax=ax,width=0.9,edgecolor='darkslategrey',stacked=False)\n",
    "ax.tick_params(axis='x',rotation=0,pad=5)"
   ]
  }
 ],
 "metadata": {
  "kernelspec": {
   "display_name": "Python 3 (ipykernel)",
   "language": "python",
   "name": "python3"
  },
  "language_info": {
   "codemirror_mode": {
    "name": "ipython",
    "version": 3
   },
   "file_extension": ".py",
   "mimetype": "text/x-python",
   "name": "python",
   "nbconvert_exporter": "python",
   "pygments_lexer": "ipython3",
   "version": "3.10.4"
  }
 },
 "nbformat": 4,
 "nbformat_minor": 5
}
